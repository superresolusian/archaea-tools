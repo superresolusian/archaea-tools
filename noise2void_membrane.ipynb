{
 "cells": [
  {
   "cell_type": "markdown",
   "metadata": {},
   "source": [
    "# Python imports"
   ]
  },
  {
   "cell_type": "code",
   "execution_count": 7,
   "metadata": {},
   "outputs": [],
   "source": [
    "from n2v.models import N2VConfig, N2V\n",
    "from skimage import io\n",
    "import numpy as np\n",
    "import random\n",
    "import tensorflow as tf\n",
    "from tqdm.notebook import tqdm\n",
    "from csbdeep.utils import plot_history, Path\n",
    "from n2v.utils.n2v_utils import manipulate_val_data\n",
    "from n2v.internals.N2V_DataGenerator import N2V_DataGenerator\n",
    "from matplotlib import pyplot as plt\n",
    "from tifffile import imread, TiffFile\n",
    "import random\n",
    "\n",
    "import urllib\n",
    "import os\n",
    "import zipfile"
   ]
  },
  {
   "cell_type": "markdown",
   "metadata": {},
   "source": [
    "Where the data is"
   ]
  },
  {
   "cell_type": "code",
   "execution_count": 2,
   "metadata": {},
   "outputs": [
    {
     "name": "stdout",
     "output_type": "stream",
     "text": [
      "There are 64 files to analyse!\n"
     ]
    }
   ],
   "source": [
    "base_dir = r'Z:\\200406 starchaea biorxiv\\noise2void\\DNA'\n",
    "base_dir_raw = r'Z:\\200406 starchaea biorxiv\\noise2void\\DNA\\raw data'\n",
    "\n",
    "base_path = Path(base_dir)\n",
    "raw_files = sorted(Path(base_path/r'raw data').rglob('*.tif'))\n",
    "print(f'There are {len(raw_files)} files to analyse!')\n",
    "\n",
    "n2v_train_dir = base_path/f'n2v train'\n",
    "n2v_train_dir.mkdir(exist_ok=True)\n",
    "\n",
    "n2v_val_dir = base_path/f'n2v validation'\n",
    "n2v_val_dir.mkdir(exist_ok=True)\n",
    "\n",
    "##n2v_model_dir = base_path/f'models'\n",
    "##n2v_model_dir.mkdir(exist_ok=True)"
   ]
  },
  {
   "cell_type": "markdown",
   "metadata": {},
   "source": [
    "Get image information"
   ]
  },
  {
   "cell_type": "markdown",
   "metadata": {},
   "source": [
    "ims = []\n",
    "\n",
    "for file in raw_files:\n",
    "    T = imread(str(file))\n",
    "    print(f'T has shape {T.shape}')\n",
    "    ims.append(T)"
   ]
  },
  {
   "cell_type": "markdown",
   "metadata": {},
   "source": [
    "Create training and validation patches - assume only one channel for now"
   ]
  },
  {
   "cell_type": "code",
   "execution_count": 3,
   "metadata": {},
   "outputs": [
    {
     "name": "stdout",
     "output_type": "stream",
     "text": [
      "(1, 1200, 1200, 1) (1, 1200, 1200, 1)\n",
      "Generated patches: (1152, 96, 96, 1)\n",
      "Generated patches: (1152, 96, 96, 1)\n",
      "Generated patches: (1152, 96, 96, 1)\n",
      "Generated patches: (1152, 96, 96, 1)\n",
      "Generated patches: (1152, 96, 96, 1)\n",
      "Generated patches: (1152, 96, 96, 1)\n",
      "Generated patches: (1152, 96, 96, 1)\n",
      "Generated patches: (1152, 96, 96, 1)\n",
      "Generated patches: (1152, 96, 96, 1)\n",
      "Generated patches: (1152, 96, 96, 1)\n",
      "Generated patches: (1152, 96, 96, 1)\n",
      "Generated patches: (1152, 96, 96, 1)\n",
      "Generated patches: (1152, 96, 96, 1)\n",
      "Generated patches: (1152, 96, 96, 1)\n",
      "Generated patches: (1152, 96, 96, 1)\n",
      "Generated patches: (1152, 96, 96, 1)\n",
      "Generated patches: (1152, 96, 96, 1)\n",
      "Generated patches: (1152, 96, 96, 1)\n",
      "Generated patches: (1152, 96, 96, 1)\n",
      "Generated patches: (1152, 96, 96, 1)\n",
      "Generated patches: (1152, 96, 96, 1)\n",
      "Generated patches: (1152, 96, 96, 1)\n",
      "Generated patches: (1152, 96, 96, 1)\n",
      "Generated patches: (1152, 96, 96, 1)\n",
      "Generated patches: (1152, 96, 96, 1)\n",
      "Generated patches: (1152, 96, 96, 1)\n",
      "Generated patches: (1152, 96, 96, 1)\n",
      "Generated patches: (1152, 96, 96, 1)\n",
      "Generated patches: (1152, 96, 96, 1)\n",
      "Generated patches: (1152, 96, 96, 1)\n",
      "Generated patches: (1152, 96, 96, 1)\n",
      "Generated patches: (1152, 96, 96, 1)\n",
      "n training patches is 18432\n",
      "n validation patches is 18432\n"
     ]
    }
   ],
   "source": [
    "datagen = N2V_DataGenerator()\n",
    "imgs = datagen.load_imgs_from_directory(directory=base_dir_raw)\n",
    "print(imgs[0].shape,imgs[1].shape)\n",
    "\n",
    "n_imgs = len(imgs)\n",
    "\n",
    "# We will use even-indexed images to extract training patches and store them in 'X'\n",
    "X = datagen.generate_patches_from_list(imgs[::4], shape=(96,96))\n",
    "\n",
    "# We will use the second image to extract validation patches.\n",
    "X_val = datagen.generate_patches_from_list(imgs[1::4], shape=(96,96))\n",
    "\n",
    "print(f'n training patches is {len(X)}')\n",
    "print(f'n validation patches is {len(X_val)}')"
   ]
  },
  {
   "cell_type": "markdown",
   "metadata": {},
   "source": [
    "patch_size = 64\n",
    "n_patch_train = 500\n",
    "n_patch_val = 50\n",
    "\n",
    "X = []\n",
    "X_val = []\n",
    "\n",
    "for n in range(n_patch_train):\n",
    "    im = random.choice(ims)\n",
    "    frame = random.choice(range(im.shape[0]))\n",
    "    x_start = random.choice(range(im.shape[1]-patch_size))\n",
    "    y_start = random.choice(range(im.shape[2]-patch_size))\n",
    "    X.append(im[frame][x_start:x_start+patch_size, y_start:y_start+patch_size])\n",
    "    \n",
    "for n in range(n_patch_val):\n",
    "    im = random.choice(ims)\n",
    "    frame = random.choice(range(im.shape[0]))\n",
    "    x_start = random.choice(range(im.shape[1]-patch_size))\n",
    "    y_start = random.choice(range(im.shape[2]-patch_size))\n",
    "    X_val.append(im[frame][x_start:x_start+patch_size, y_start:y_start+patch_size])\n",
    "    \n",
    "X = np.array(X)\n",
    "X_val = np.array(X_val)\n",
    "\n",
    "# add channel dimension for n2v\n",
    "X = X[..., np.newaxis]\n",
    "X_val = X_val[..., np.newaxis]"
   ]
  },
  {
   "cell_type": "markdown",
   "metadata": {},
   "source": [
    "Preview training and validation"
   ]
  },
  {
   "cell_type": "code",
   "execution_count": 4,
   "metadata": {},
   "outputs": [
    {
     "data": {
      "image/png": "[encoded data removed]",
      "text/plain": [
       "<Figure size 1008x504 with 2 Axes>"
      ]
     },
     "metadata": {
      "needs_background": "light"
     },
     "output_type": "display_data"
    }
   ],
   "source": [
    "plt.figure(figsize=(14,7))\n",
    "plt.subplot(1,2,1)\n",
    "plt.imshow(X[0,...,0], cmap='gray')\n",
    "plt.title('Training Patch');\n",
    "plt.subplot(1,2,2)\n",
    "plt.imshow(X_val[0,...,0], cmap='gray')\n",
    "plt.title('Validation Patch');"
   ]
  },
  {
   "cell_type": "markdown",
   "metadata": {},
   "source": [
    "Prepare for n2v"
   ]
  },
  {
   "cell_type": "code",
   "execution_count": 5,
   "metadata": {},
   "outputs": [
    {
     "data": {
      "text/plain": [
       "{'means': ['163.45209'],\n",
       " 'stds': ['41.906403'],\n",
       " 'n_dim': 2,\n",
       " 'axes': 'YXC',\n",
       " 'n_channel_in': 1,\n",
       " 'n_channel_out': 1,\n",
       " 'unet_residual': True,\n",
       " 'unet_n_depth': 2,\n",
       " 'unet_kern_size': 3,\n",
       " 'unet_n_first': 96,\n",
       " 'unet_last_activation': 'linear',\n",
       " 'unet_input_shape': (None, None, 1),\n",
       " 'train_loss': 'mse',\n",
       " 'train_epochs': 200,\n",
       " 'train_steps_per_epoch': 144,\n",
       " 'train_learning_rate': 0.0004,\n",
       " 'train_batch_size': 128,\n",
       " 'train_tensorboard': True,\n",
       " 'train_checkpoint': 'weights_best.h5',\n",
       " 'train_reduce_lr': {'factor': 0.5, 'patience': 10},\n",
       " 'batch_norm': True,\n",
       " 'n2v_perc_pix': 0.198,\n",
       " 'n2v_patch_shape': (64, 64),\n",
       " 'n2v_manipulator': 'uniform_withCP',\n",
       " 'n2v_neighborhood_radius': 5,\n",
       " 'probabilistic': False}"
      ]
     },
     "execution_count": 5,
     "metadata": {},
     "output_type": "execute_result"
    }
   ],
   "source": [
    "config = N2VConfig(X, unet_kern_size=3, \n",
    "                   train_steps_per_epoch=int(X.shape[0]/128), train_epochs=200, train_loss='mse', batch_norm=True, \n",
    "                   train_batch_size=128, n2v_perc_pix=0.198, n2v_patch_shape=(64, 64), \n",
    "                   unet_n_first = 96,\n",
    "                   unet_residual = True,\n",
    "                   n2v_manipulator='uniform_withCP', n2v_neighborhood_radius=5)\n",
    "\n",
    "# Let's look at the parameters stored in the config-object.\n",
    "vars(config)"
   ]
  },
  {
   "cell_type": "code",
   "execution_count": 6,
   "metadata": {},
   "outputs": [
    {
     "name": "stderr",
     "output_type": "stream",
     "text": [
      "WARNING: Logging before flag parsing goes to stderr.\n",
      "W0407 01:40:03.534221 24932 module_wrapper.py:139] From C:\\Users\\SC\\Anaconda3\\lib\\site-packages\\keras\\backend\\tensorflow_backend.py:517: The name tf.placeholder is deprecated. Please use tf.compat.v1.placeholder instead.\n",
      "\n",
      "W0407 01:40:03.539225 24932 module_wrapper.py:139] From C:\\Users\\SC\\Anaconda3\\lib\\site-packages\\keras\\backend\\tensorflow_backend.py:4138: The name tf.random_uniform is deprecated. Please use tf.random.uniform instead.\n",
      "\n",
      "W0407 01:40:03.549182 24932 module_wrapper.py:139] From C:\\Users\\SC\\Anaconda3\\lib\\site-packages\\keras\\backend\\tensorflow_backend.py:74: The name tf.get_default_graph is deprecated. Please use tf.compat.v1.get_default_graph instead.\n",
      "\n",
      "W0407 01:40:03.562163 24932 module_wrapper.py:139] From C:\\Users\\SC\\Anaconda3\\lib\\site-packages\\keras\\backend\\tensorflow_backend.py:174: The name tf.get_default_session is deprecated. Please use tf.compat.v1.get_default_session instead.\n",
      "\n",
      "W0407 01:40:03.562163 24932 module_wrapper.py:139] From C:\\Users\\SC\\Anaconda3\\lib\\site-packages\\keras\\backend\\tensorflow_backend.py:181: The name tf.ConfigProto is deprecated. Please use tf.compat.v1.ConfigProto instead.\n",
      "\n",
      "W0407 01:40:03.563144 24932 module_wrapper.py:139] From C:\\Users\\SC\\Anaconda3\\lib\\site-packages\\keras\\backend\\tensorflow_backend.py:186: The name tf.Session is deprecated. Please use tf.compat.v1.Session instead.\n",
      "\n",
      "W0407 01:40:03.866333 24932 module_wrapper.py:139] From C:\\Users\\SC\\Anaconda3\\lib\\site-packages\\keras\\backend\\tensorflow_backend.py:190: The name tf.global_variables is deprecated. Please use tf.compat.v1.global_variables instead.\n",
      "\n",
      "W0407 01:40:03.867334 24932 module_wrapper.py:139] From C:\\Users\\SC\\Anaconda3\\lib\\site-packages\\keras\\backend\\tensorflow_backend.py:199: The name tf.is_variable_initialized is deprecated. Please use tf.compat.v1.is_variable_initialized instead.\n",
      "\n",
      "W0407 01:40:03.876308 24932 module_wrapper.py:139] From C:\\Users\\SC\\Anaconda3\\lib\\site-packages\\keras\\backend\\tensorflow_backend.py:206: The name tf.variables_initializer is deprecated. Please use tf.compat.v1.variables_initializer instead.\n",
      "\n",
      "W0407 01:40:03.885285 24932 module_wrapper.py:139] From C:\\Users\\SC\\Anaconda3\\lib\\site-packages\\keras\\backend\\tensorflow_backend.py:1834: The name tf.nn.fused_batch_norm is deprecated. Please use tf.compat.v1.nn.fused_batch_norm instead.\n",
      "\n",
      "W0407 01:40:03.927191 24932 module_wrapper.py:139] From C:\\Users\\SC\\Anaconda3\\lib\\site-packages\\keras\\backend\\tensorflow_backend.py:133: The name tf.placeholder_with_default is deprecated. Please use tf.compat.v1.placeholder_with_default instead.\n",
      "\n",
      "W0407 01:40:03.988010 24932 module_wrapper.py:139] From C:\\Users\\SC\\Anaconda3\\lib\\site-packages\\keras\\backend\\tensorflow_backend.py:3976: The name tf.nn.max_pool is deprecated. Please use tf.nn.max_pool2d instead.\n",
      "\n",
      "W0407 01:40:04.200440 24932 module_wrapper.py:139] From C:\\Users\\SC\\Anaconda3\\lib\\site-packages\\keras\\backend\\tensorflow_backend.py:2018: The name tf.image.resize_nearest_neighbor is deprecated. Please use tf.compat.v1.image.resize_nearest_neighbor instead.\n",
      "\n",
      "W0407 01:40:04.496670 24932 module_wrapper.py:139] From C:\\Users\\SC\\Anaconda3\\lib\\site-packages\\keras\\optimizers.py:790: The name tf.train.Optimizer is deprecated. Please use tf.compat.v1.train.Optimizer instead.\n",
      "\n"
     ]
    }
   ],
   "source": [
    "# a name used to identify the model\n",
    "model_name = 'starchaea_dna'\n",
    "# We are now creating our network model.\n",
    "model = N2V(config, model_name, basedir='models')\n",
    "model.prepare_for_training(metrics=())"
   ]
  },
  {
   "cell_type": "markdown",
   "metadata": {},
   "source": [
    "Train model"
   ]
  },
  {
   "cell_type": "code",
   "execution_count": null,
   "metadata": {},
   "outputs": [
    {
     "name": "stderr",
     "output_type": "stream",
     "text": [
      "Preparing validation data: 100%|███████████████████████████████████| 18432/18432 [00:20<00:00, 905.19it/s]\n",
      "W0407 01:40:57.975278 24932 module_wrapper.py:139] From C:\\Users\\SC\\Anaconda3\\lib\\site-packages\\keras\\backend\\tensorflow_backend.py:986: The name tf.assign_add is deprecated. Please use tf.compat.v1.assign_add instead.\n",
      "\n",
      "W0407 01:40:58.250563 24932 module_wrapper.py:139] From C:\\Users\\SC\\Anaconda3\\lib\\site-packages\\keras\\backend\\tensorflow_backend.py:973: The name tf.assign is deprecated. Please use tf.compat.v1.assign instead.\n",
      "\n",
      "W0407 01:40:59.166114 24932 lazy_loader.py:50] \n",
      "The TensorFlow contrib module will not be included in TensorFlow 2.0.\n",
      "For more information, please see:\n",
      "  * https://github.com/tensorflow/community/blob/master/rfcs/20180907-contrib-sunset.md\n",
      "  * https://github.com/tensorflow/addons\n",
      "  * https://github.com/tensorflow/io (for I/O related ops)\n",
      "If you depend on functionality not listed there, please file an issue.\n",
      "\n",
      "W0407 01:41:00.227393 24932 module_wrapper.py:139] From C:\\Users\\SC\\Anaconda3\\lib\\site-packages\\csbdeep\\utils\\tf.py:240: The name tf.summary.image is deprecated. Please use tf.compat.v1.summary.image instead.\n",
      "\n",
      "W0407 01:41:00.407910 24932 module_wrapper.py:139] From C:\\Users\\SC\\Anaconda3\\lib\\site-packages\\csbdeep\\utils\\tf.py:268: The name tf.summary.merge is deprecated. Please use tf.compat.v1.summary.merge instead.\n",
      "\n",
      "W0407 01:41:00.409909 24932 module_wrapper.py:139] From C:\\Users\\SC\\Anaconda3\\lib\\site-packages\\csbdeep\\utils\\tf.py:275: The name tf.summary.FileWriter is deprecated. Please use tf.compat.v1.summary.FileWriter instead.\n",
      "\n"
     ]
    },
    {
     "name": "stdout",
     "output_type": "stream",
     "text": [
      "Epoch 1/200\n",
      "144/144 [==============================] - 4830s 34s/step - loss: 0.1071 - val_loss: 0.0723\n"
     ]
    },
    {
     "name": "stderr",
     "output_type": "stream",
     "text": [
      "W0407 03:01:31.839084 24932 module_wrapper.py:139] From C:\\Users\\SC\\Anaconda3\\lib\\site-packages\\n2v\\models\\n2v_standard.py:300: The name tf.Summary is deprecated. Please use tf.compat.v1.Summary instead.\n",
      "\n"
     ]
    },
    {
     "name": "stdout",
     "output_type": "stream",
     "text": [
      "Epoch 2/200\n",
      "144/144 [==============================] - 4843s 34s/step - loss: 0.0546 - val_loss: 0.0669\n",
      "Epoch 3/200\n",
      "144/144 [==============================] - 4855s 34s/step - loss: 0.0526 - val_loss: 0.0622\n",
      "Epoch 4/200\n",
      "144/144 [==============================] - 4847s 34s/step - loss: 0.0517 - val_loss: 0.0548\n",
      "Epoch 5/200\n",
      "144/144 [==============================] - 4848s 34s/step - loss: 0.0506 - val_loss: 0.0533\n",
      "Epoch 6/200\n",
      "144/144 [==============================] - 4842s 34s/step - loss: 0.0499 - val_loss: 0.0488\n",
      "Epoch 7/200\n",
      "144/144 [==============================] - 4839s 34s/step - loss: 0.0506 - val_loss: 0.0494\n",
      "Epoch 8/200\n",
      "143/144 [============================>.] - ETA: 17s - loss: 0.0501"
     ]
    }
   ],
   "source": [
    "history = model.train(X, X_val)"
   ]
  },
  {
   "cell_type": "code",
   "execution_count": null,
   "metadata": {},
   "outputs": [],
   "source": [
    "denoised = []\n",
    "for frame in tqdm(T):\n",
    "    denoised.append(model.predict(frame.astype(np.float32),'YX'))"
   ]
  },
  {
   "cell_type": "code",
   "execution_count": null,
   "metadata": {},
   "outputs": [],
   "source": [
    "io.imsave('denoised.tif', np.asarray(denoised))"
   ]
  },
  {
   "cell_type": "code",
   "execution_count": null,
   "metadata": {},
   "outputs": [],
   "source": [
    "base_dir_C2 = r'X:\\GautamDey\\2020\\Fast Nup imaging\\separate for denoising\\C2'\n",
    "base_path_C2= Path(base_dir_C2)\n",
    "raw_files_C2 = sorted(Path(base_path_C2/r'raw data').rglob('*.tif'))\n",
    "\n",
    "ims_2= []\n",
    "\n",
    "for file in raw_files_C2:\n",
    "    T2 = imread(str(file))\n",
    "    print(f'T2 has shape {T2.shape}')\n",
    "    ims_2.append(T2)"
   ]
  },
  {
   "cell_type": "code",
   "execution_count": null,
   "metadata": {},
   "outputs": [],
   "source": [
    "denoised_2 = []\n",
    "for frame in tqdm(T2):\n",
    "    denoised_2.append(model.predict(frame.astype(np.float32),'YX'))\n"
   ]
  },
  {
   "cell_type": "code",
   "execution_count": null,
   "metadata": {},
   "outputs": [],
   "source": [
    "denoised_2 = denoised[120:]"
   ]
  },
  {
   "cell_type": "code",
   "execution_count": null,
   "metadata": {},
   "outputs": [],
   "source": [
    "io.imsave('denoised_c2.tif', np.asarray(denoised_2))"
   ]
  },
  {
   "cell_type": "code",
   "execution_count": null,
   "metadata": {},
   "outputs": [],
   "source": []
  }
 ],
 "metadata": {
  "kernelspec": {
   "display_name": "Python 3",
   "language": "python",
   "name": "python3"
  },
  "language_info": {
   "codemirror_mode": {
    "name": "ipython",
    "version": 3
   },
   "file_extension": ".py",
   "mimetype": "text/x-python",
   "name": "python",
   "nbconvert_exporter": "python",
   "pygments_lexer": "ipython3",
   "version": "3.7.6"
  }
 },
 "nbformat": 4,
 "nbformat_minor": 2
}
