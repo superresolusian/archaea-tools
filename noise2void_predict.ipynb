{
 "cells": [
  {
   "cell_type": "code",
   "execution_count": 1,
   "metadata": {},
   "outputs": [
    {
     "name": "stderr",
     "output_type": "stream",
     "text": [
      "Using TensorFlow backend.\n"
     ]
    }
   ],
   "source": [
    "from n2v.models import N2VConfig, N2V\n",
    "from skimage import io\n",
    "import numpy as np\n",
    "import random\n",
    "import tensorflow as tf\n",
    "from tqdm.notebook import tqdm\n",
    "from csbdeep.utils import plot_history, Path\n",
    "from n2v.utils.n2v_utils import manipulate_val_data\n",
    "from n2v.internals.N2V_DataGenerator import N2V_DataGenerator\n",
    "from matplotlib import pyplot as plt\n",
    "from tifffile import imread, TiffFile\n",
    "import random\n",
    "\n",
    "import urllib\n",
    "import os\n",
    "import zipfile"
   ]
  },
  {
   "cell_type": "code",
   "execution_count": 2,
   "metadata": {},
   "outputs": [
    {
     "name": "stderr",
     "output_type": "stream",
     "text": [
      "WARNING: Logging before flag parsing goes to stderr.\n",
      "W0418 11:17:59.806990  2100 module_wrapper.py:139] From C:\\Users\\SC\\Anaconda3\\lib\\site-packages\\keras\\backend\\tensorflow_backend.py:517: The name tf.placeholder is deprecated. Please use tf.compat.v1.placeholder instead.\n",
      "\n",
      "W0418 11:17:59.809956  2100 module_wrapper.py:139] From C:\\Users\\SC\\Anaconda3\\lib\\site-packages\\keras\\backend\\tensorflow_backend.py:4138: The name tf.random_uniform is deprecated. Please use tf.random.uniform instead.\n",
      "\n",
      "W0418 11:17:59.818946  2100 module_wrapper.py:139] From C:\\Users\\SC\\Anaconda3\\lib\\site-packages\\keras\\backend\\tensorflow_backend.py:74: The name tf.get_default_graph is deprecated. Please use tf.compat.v1.get_default_graph instead.\n",
      "\n",
      "W0418 11:17:59.833906  2100 module_wrapper.py:139] From C:\\Users\\SC\\Anaconda3\\lib\\site-packages\\keras\\backend\\tensorflow_backend.py:174: The name tf.get_default_session is deprecated. Please use tf.compat.v1.get_default_session instead.\n",
      "\n",
      "W0418 11:17:59.834883  2100 module_wrapper.py:139] From C:\\Users\\SC\\Anaconda3\\lib\\site-packages\\keras\\backend\\tensorflow_backend.py:181: The name tf.ConfigProto is deprecated. Please use tf.compat.v1.ConfigProto instead.\n",
      "\n",
      "W0418 11:17:59.835882  2100 module_wrapper.py:139] From C:\\Users\\SC\\Anaconda3\\lib\\site-packages\\keras\\backend\\tensorflow_backend.py:186: The name tf.Session is deprecated. Please use tf.compat.v1.Session instead.\n",
      "\n",
      "W0418 11:18:00.273955  2100 module_wrapper.py:139] From C:\\Users\\SC\\Anaconda3\\lib\\site-packages\\keras\\backend\\tensorflow_backend.py:190: The name tf.global_variables is deprecated. Please use tf.compat.v1.global_variables instead.\n",
      "\n",
      "W0418 11:18:00.273955  2100 module_wrapper.py:139] From C:\\Users\\SC\\Anaconda3\\lib\\site-packages\\keras\\backend\\tensorflow_backend.py:199: The name tf.is_variable_initialized is deprecated. Please use tf.compat.v1.is_variable_initialized instead.\n",
      "\n",
      "W0418 11:18:00.288148  2100 module_wrapper.py:139] From C:\\Users\\SC\\Anaconda3\\lib\\site-packages\\keras\\backend\\tensorflow_backend.py:206: The name tf.variables_initializer is deprecated. Please use tf.compat.v1.variables_initializer instead.\n",
      "\n",
      "W0418 11:18:00.295427  2100 module_wrapper.py:139] From C:\\Users\\SC\\Anaconda3\\lib\\site-packages\\keras\\backend\\tensorflow_backend.py:1834: The name tf.nn.fused_batch_norm is deprecated. Please use tf.compat.v1.nn.fused_batch_norm instead.\n",
      "\n",
      "W0418 11:18:00.329082  2100 module_wrapper.py:139] From C:\\Users\\SC\\Anaconda3\\lib\\site-packages\\keras\\backend\\tensorflow_backend.py:133: The name tf.placeholder_with_default is deprecated. Please use tf.compat.v1.placeholder_with_default instead.\n",
      "\n",
      "W0418 11:18:00.390457  2100 module_wrapper.py:139] From C:\\Users\\SC\\Anaconda3\\lib\\site-packages\\keras\\backend\\tensorflow_backend.py:3976: The name tf.nn.max_pool is deprecated. Please use tf.nn.max_pool2d instead.\n",
      "\n",
      "W0418 11:18:00.589926  2100 module_wrapper.py:139] From C:\\Users\\SC\\Anaconda3\\lib\\site-packages\\keras\\backend\\tensorflow_backend.py:2018: The name tf.image.resize_nearest_neighbor is deprecated. Please use tf.compat.v1.image.resize_nearest_neighbor instead.\n",
      "\n"
     ]
    },
    {
     "name": "stdout",
     "output_type": "stream",
     "text": [
      "Loading network weights from 'weights_best.h5'.\n",
      "Loading network weights from 'weights_best.h5'.\n"
     ]
    }
   ],
   "source": [
    "model_membrane = N2V(None, 'starchaea_membrane', basedir='models')\n",
    "model_dna = N2V(None, 'starchaea_dna', basedir='models')"
   ]
  },
  {
   "cell_type": "code",
   "execution_count": 3,
   "metadata": {},
   "outputs": [],
   "source": [
    "base_dir = r'Z:\\200406 starchaea biorxiv\\noise2void\\denoised\\nr_only_2'\n",
    "base_path = Path(base_dir)\n",
    "\n",
    "dna_path = sorted(base_path.rglob('dna*.tif'))\n",
    "membrane_path = sorted(base_path.rglob('mem*.tif'))"
   ]
  },
  {
   "cell_type": "code",
   "execution_count": 4,
   "metadata": {},
   "outputs": [],
   "source": [
    "dna_im = None\n",
    "if len(dna_path)>0:\n",
    "    dna_im = imread(str(dna_path[0]))\n",
    "membrane_im = imread(str(membrane_path[0]))"
   ]
  },
  {
   "cell_type": "code",
   "execution_count": 5,
   "metadata": {},
   "outputs": [
    {
     "data": {
      "application/vnd.jupyter.widget-view+json": {
       "model_id": "019da6fe4bf647fba7f369d0e2103ff9",
       "version_major": 2,
       "version_minor": 0
      },
      "text/plain": [
       "HBox(children=(FloatProgress(value=0.0, max=167.0), HTML(value='')))"
      ]
     },
     "metadata": {},
     "output_type": "display_data"
    },
    {
     "name": "stdout",
     "output_type": "stream",
     "text": [
      "\n"
     ]
    }
   ],
   "source": [
    "membrane_denoised = []\n",
    "for frame in tqdm(membrane_im):\n",
    "    membrane_denoised.append(model_membrane.predict(frame.astype(np.float32),'YX'))"
   ]
  },
  {
   "cell_type": "code",
   "execution_count": 6,
   "metadata": {},
   "outputs": [],
   "source": [
    "if dna_im is not None:\n",
    "    dna_denoised = []\n",
    "    for frame in tqdm(dna_im):\n",
    "        dna_denoised.append(model_dna.predict(frame.astype(np.float32),'YX'))\n",
    "    "
   ]
  },
  {
   "cell_type": "code",
   "execution_count": 7,
   "metadata": {},
   "outputs": [],
   "source": [
    "membrane_save_string = f'{base_dir}\\membrane_denoised.tif'\n",
    "io.imsave(membrane_save_string, np.asarray(membrane_denoised))\n",
    "if dna_im is not None:\n",
    "    dna_save_string = f'{base_dir}\\dna_denoised.tif'\n",
    "    io.imsave(dna_save_string, np.asarray(dna_denoised))"
   ]
  },
  {
   "cell_type": "code",
   "execution_count": null,
   "metadata": {},
   "outputs": [],
   "source": []
  }
 ],
 "metadata": {
  "kernelspec": {
   "display_name": "Python 3",
   "language": "python",
   "name": "python3"
  },
  "language_info": {
   "codemirror_mode": {
    "name": "ipython",
    "version": 3
   },
   "file_extension": ".py",
   "mimetype": "text/x-python",
   "name": "python",
   "nbconvert_exporter": "python",
   "pygments_lexer": "ipython3",
   "version": "3.7.6"
  }
 },
 "nbformat": 4,
 "nbformat_minor": 4
}
