{
 "cells": [
  {
   "cell_type": "markdown",
   "metadata": {},
   "source": [
    "## Imports"
   ]
  },
  {
   "cell_type": "code",
   "execution_count": 1,
   "metadata": {},
   "outputs": [],
   "source": [
    "import scipy.optimize as opt\n",
    "import numpy as np\n",
    "import matplotlib.pylab as plt\n",
    "from tifffile import imread\n",
    "from scipy.ndimage.filters import gaussian_filter\n",
    "import csv\n",
    "import matplotlib.animation as animation\n",
    "\n",
    "from pathlib import Path"
   ]
  },
  {
   "cell_type": "markdown",
   "metadata": {},
   "source": [
    "## Functions"
   ]
  },
  {
   "cell_type": "code",
   "execution_count": 152,
   "metadata": {},
   "outputs": [],
   "source": [
    "def gauss_2D(xy_tuple, A, x_0, y_0, sigma_x, sigma_y, theta, C):\n",
    "\n",
    "    (x,y) = xy_tuple\n",
    "    x_0 = float(x_0)\n",
    "    y_0 = float(y_0)\n",
    "\n",
    "    cos_theta_2 = np.cos(theta)**2\n",
    "    sin_theta_2 = np.sin(theta)**2\n",
    "    cos_2_theta = np.cos(2*theta)\n",
    "    sin_2_theta = np.sin(2*theta)\n",
    "\n",
    "    sigma_x_2 = sigma_x**2\n",
    "    sigma_y_2 = sigma_y**2\n",
    "\n",
    "    a = cos_theta_2/(2*sigma_x_2) + sin_theta_2/(2*sigma_y_2)\n",
    "    b = -sin_2_theta/(4*sigma_x_2) + sin_2_theta/(4*sigma_y_2)\n",
    "    c = sin_theta_2/(2*sigma_x_2) + cos_theta_2/(2*sigma_y_2)\n",
    "\n",
    "    gauss = A*np.exp(-(a*(x-x_0)**2 + 2*b*(x-x_0)*(y-y_0) + c*(y-y_0)**2)) + C\n",
    "    \n",
    "    return gauss.ravel()\n",
    "\n",
    "\n",
    "def double_gauss_2D(xy_tuple, A, x_0, y_0, sigma_x, sigma_y, theta,\n",
    "                    A_, x_0_, y_0_, sigma_x_, sigma_y_, theta_, C):\n",
    "\n",
    "    gauss = gauss_2D(xy_tuple, A, x_0, y_0, sigma_x, sigma_y, theta, 0)\n",
    "    gauss_ = gauss_2D(xy_tuple, A_, x_0_, y_0_, sigma_x_, sigma_y_, theta_, 0)\n",
    "    \n",
    "    return gauss + gauss_ + C\n",
    "\n",
    "def diff_of_gauss(xy_tuple, A, x_0, y_0, sigma_x, sigma_y, theta,\n",
    "                  A_, x_0_, y_0_, sigma_x_, sigma_y_, theta_, C):\n",
    "    gauss = gauss_2D(xy_tuple, A, x_0, y_0, sigma_x, sigma_y, theta, 0)\n",
    "    gauss_ = gauss_2D(xy_tuple, A_, x_0_, y_0_, sigma_x_, sigma_y_, theta_, 0)\n",
    "    \n",
    "    return gauss - gauss_ + C\n",
    "\n",
    "\n",
    "def sum_squared_residuals(coords, real_vals, *params):\n",
    "    num_params = len(params)\n",
    "    \n",
    "    if num_params==7:\n",
    "        fitted = gauss_2D(coords, *params)\n",
    "    else:\n",
    "        fitted = double_gauss_2D(coords, *params)\n",
    "        \n",
    "    residuals = fitted - real_vals\n",
    "    \n",
    "    sum_squared_residuals = 0;\n",
    "    \n",
    "    for r in residuals:\n",
    "        sum_squared_residuals += r**2\n",
    "        \n",
    "    return sum_squared_residuals\n",
    "\n",
    "\n",
    "def euclidean_distance(c1, c2):\n",
    "    x1 = c1[0];\n",
    "    y1 = c1[1];\n",
    "    x2 = c2[0];\n",
    "    y2 = c2[1];\n",
    "    \n",
    "    return ((x1-x2)**2 + (y1-y2)**2)**0.5\n",
    "\n",
    "def randomise_initial_conditions_and_fit(coords, real_vals, iterations, params):\n",
    "    best_residual = np.inf\n",
    "    \n",
    "    for i in range(iterations):\n",
    "        \n",
    "        for p in range(len(params)):\n",
    "            original_param = params[p]\n",
    "            params[p] = np.random.normal(original_param, max(0.01, 0.05*original_param))\n",
    "                    \n",
    "        try:\n",
    "            popt_double, pcov_double = opt.curve_fit(double_gauss_2D, coords, real_vals, p0=params)\n",
    "        except:\n",
    "            continue\n",
    "                \n",
    "        residual = sum_squared_residuals(coords, real_vals, *popt_double)\n",
    "        \n",
    "        if residual<best_residual:\n",
    "            best_residual = residual\n",
    "            best_params = popt_double\n",
    "        \n",
    "    return best_params"
   ]
  },
  {
   "cell_type": "markdown",
   "metadata": {},
   "source": [
    "## Load image"
   ]
  },
  {
   "cell_type": "code",
   "execution_count": 219,
   "metadata": {},
   "outputs": [
    {
     "data": {
      "text/plain": [
       "<matplotlib.image.AxesImage at 0x1a4c5b59940>"
      ]
     },
     "execution_count": 219,
     "metadata": {},
     "output_type": "execute_result"
    },
    {
     "data": {
      "image/png": "[encoded data removed]",
      "text/plain": [
       "<Figure size 432x288 with 1 Axes>"
      ]
     },
     "metadata": {
      "needs_background": "light"
     },
     "output_type": "display_data"
    }
   ],
   "source": [
    "# path of image to import\n",
    "f = r'\\\\128.40.81.191\\data from collaborators\\SaricLab\\Two_colour_data\\results - two-colour\\crops_190828_WT_NR_DNA_PAD_2_MMStack_Pos0.ome\\tifs\\190828_WT_NR_DNA_PAD_2_MMStack_Pos0.ome_crop_003.tif'\n",
    "\n",
    "# read image data\n",
    "T = imread(str(f))\n",
    "if T.shape[1]==2:\n",
    "    T = T[:,0,:,:]\n",
    "\n",
    "# set frame to analyse\n",
    "frame = 5\n",
    "\n",
    "# preview frame\n",
    "plt.figure()\n",
    "plt.imshow(T[frame], cmap=plt.cm.magma)"
   ]
  },
  {
   "cell_type": "markdown",
   "metadata": {},
   "source": [
    "## Crop image to cell of interest"
   ]
  },
  {
   "cell_type": "code",
   "execution_count": 221,
   "metadata": {},
   "outputs": [
    {
     "data": {
      "text/plain": [
       "<matplotlib.image.AxesImage at 0x1a4c5c00c18>"
      ]
     },
     "execution_count": 221,
     "metadata": {},
     "output_type": "execute_result"
    },
    {
     "data": {
      "image/png": "[encoded data removed]",
      "text/plain": [
       "<Figure size 432x288 with 1 Axes>"
      ]
     },
     "metadata": {
      "needs_background": "light"
     },
     "output_type": "display_data"
    }
   ],
   "source": [
    "# specify x and y centres (approximate) from plot above\n",
    "centre_x = 10\n",
    "centre_y = 13\n",
    "\n",
    "# specify radius of box to crop around (should contain entire cell)\n",
    "box_radius = 10\n",
    "\n",
    "# making sure that cropped area doesn't extend past image boundaries\n",
    "dims = T[frame].shape\n",
    "h = dims[0]\n",
    "w = dims[1]\n",
    "\n",
    "x_start = max(0, centre_x-box_radius)\n",
    "x_end = min(w-1, centre_x+box_radius)\n",
    "\n",
    "y_start = max(0, centre_y-box_radius)\n",
    "y_end = min(h-1, centre_y+box_radius)\n",
    "\n",
    "# crop and show\n",
    "cropped_data = T[frame][y_start:y_end, x_start:x_end]\n",
    "plt.imshow(cropped_data, cmap=plt.cm.magma)"
   ]
  },
  {
   "cell_type": "markdown",
   "metadata": {},
   "source": [
    "## Fitting"
   ]
  },
  {
   "cell_type": "code",
   "execution_count": 222,
   "metadata": {},
   "outputs": [
    {
     "name": "stdout",
     "output_type": "stream",
     "text": [
      "initial conditions for 2d gaussian fitting: [331, 10, 10, 5.0, 5.0, 0, 142.75]\n",
      "\n",
      "results of 2d gaussian fitting: \n",
      "\tamplitude = 296.6285508958603 \n",
      "\tx0 = 9.443511833327738 \n",
      "\ty0 = 10.734969880061685 \n",
      "\tsigma_x = 5.502836555054107 \n",
      "\tsigma_y = 5.558941669357155 \n",
      "\ttheta = -0.05341598536892741 \n",
      "\tC = 100.24103324402668 \n",
      "\n",
      "initial conditions for 2d gaussian difference fitting: [444.94282634379044, 9.443511833327738, 10.734969880061685, 5.502836555054107, 5.558941669357155, -0.05341598536892741, 296.6285508958603, 9.443511833327738, 10.734969880061685, 3.502836555054107, 3.5589416693571554, -0.05341598536892741, 100.24103324402668]\n",
      "\n",
      "results of 2d gaussian difference fitting: \n",
      "\tamplitude outer = 97127.47324877822 \n",
      "\tx0 outer = 9.682622700083177 \n",
      "\ty0 outer = 10.807719942676258 \n",
      "\tsigma_x outer = 3.1182780123544784 \n",
      "\tsigma_y outer = 3.109697531404548 \n",
      "\ttheta outer = -1.2932273405876833 \n",
      "\tamplitude inner = -96964.8433809189 \n",
      "\tx0 inner = 9.683370016081263 \n",
      "\ty0 inner = 10.807875939217983 \n",
      "\tsigma_x inner = 3.111846629832282 \n",
      "\tsigma_y inner = 3.103119845412945 \n",
      "\ttheta inner = -1.2883270644127278 \n",
      "\tC = 137.61876605115418 \n",
      "\n"
     ]
    }
   ],
   "source": [
    "# get (x,y) coordinates for fitting\n",
    "indices = np.indices(cropped_data.shape)\n",
    "\n",
    "# estimate initial conditions for 2d gaussian fit\n",
    "dims_crop = cropped_data.shape\n",
    "h_crop = dims_crop[0]\n",
    "w_crop = dims_crop[1]\n",
    "\n",
    "A = cropped_data[box_radius, box_radius]\n",
    "sigma = box_radius/2\n",
    "C = np.mean([cropped_data[0, 0], cropped_data[h_crop-1,0], cropped_data[0, w_crop-1], cropped_data[h_crop-1,w_crop-1]])\n",
    "\n",
    "p0=[A, box_radius, box_radius, sigma, sigma, 0, C]\n",
    "print(f'initial conditions for 2d gaussian fitting: {p0}\\n')\n",
    "\n",
    "# do 2d gaussian fit to data\n",
    "try:\n",
    "    popt_single, pcov_single = opt.curve_fit(gauss_2D, indices, cropped_data.ravel(), p0=p0)\n",
    "except:\n",
    "    # if fit is terrible, smooth data and try again\n",
    "    popt_single, pcov_single = opt.curve_fit(gauss_2D, indices, gaussian_filter(cropped_data, 1).ravel(), p0=p0)\n",
    " \n",
    "A_ = popt_single[0]\n",
    "x0 = popt_single[1]\n",
    "y0 = popt_single[2]\n",
    "sigma_x = popt_single[3]\n",
    "sigma_y = popt_single[4]\n",
    "theta = popt_single[5]\n",
    "C = popt_single[6]\n",
    "\n",
    "print(f'results of 2d gaussian fitting: \\n\\tamplitude = {A_} \\n\\tx0 = {x0} \\n\\ty0 = {y0} \\n\\tsigma_x = {sigma_x} \\n\\tsigma_y = {sigma_y} \\n\\ttheta = {theta} \\n\\tC = {C} \\n')\n",
    "\n",
    "# prepare initial conditions for difference fit\n",
    "p0_diff=[1.5*A_, x0, y0, sigma_x, sigma_y, theta, A_, x0, y0, sigma_x-2, sigma_y-2, theta, C]\n",
    "\n",
    "print(f'initial conditions for 2d gaussian difference fitting: {p0_diff}\\n')\n",
    "\n",
    "# do 2d gaussian difference fit to data\n",
    "popt_diff, pcov_diff = opt.curve_fit(diff_of_gauss, indices, cropped_data.ravel(), p0=p0_diff, maxfev=10000)\n",
    "\n",
    "A_out = popt_diff[0]\n",
    "x0_out = popt_diff[1]\n",
    "y0_out = popt_diff[2]\n",
    "sigma_x_out = popt_diff[3]\n",
    "sigma_y_out = popt_diff[4]\n",
    "theta_out = popt_diff[5]\n",
    "A_in = -popt_diff[6]\n",
    "x0_in = popt_diff[7]\n",
    "y0_in = popt_diff[8]\n",
    "sigma_x_in = popt_diff[9]\n",
    "sigma_y_in = popt_diff[10]\n",
    "theta_in = popt_diff[11]\n",
    "C_diff = popt_diff[12]\n",
    "\n",
    "print(f'results of 2d gaussian difference fitting: \\n\\tamplitude outer = {A_out} \\n\\tx0 outer = {x0_out} \\n\\ty0 outer = {y0_out} \\n\\tsigma_x outer = {sigma_x_out} \\n\\tsigma_y outer = {sigma_y_out} \\n\\ttheta outer = {theta_out} \\n\\tamplitude inner = {A_in} \\n\\tx0 inner = {x0_in} \\n\\ty0 inner = {y0_in} \\n\\tsigma_x inner = {sigma_x_in} \\n\\tsigma_y inner = {sigma_y_in} \\n\\ttheta inner = {theta_in} \\n\\tC = {C_diff} \\n')\n",
    "\n",
    "\n"
   ]
  },
  {
   "cell_type": "markdown",
   "metadata": {},
   "source": [
    "## Plot fits"
   ]
  },
  {
   "cell_type": "code",
   "execution_count": 223,
   "metadata": {},
   "outputs": [
    {
     "data": {
      "text/plain": [
       "<matplotlib.image.AxesImage at 0x1a4c5cbfbe0>"
      ]
     },
     "execution_count": 223,
     "metadata": {},
     "output_type": "execute_result"
    },
    {
     "data": {
      "image/png": "[encoded data removed]",
      "text/plain": [
       "<Figure size 432x288 with 3 Axes>"
      ]
     },
     "metadata": {
      "needs_background": "light"
     },
     "output_type": "display_data"
    }
   ],
   "source": [
    "# create models from fits\n",
    "imfit_single = gauss_2D(indices, *popt_single)\n",
    "imfit_diff = diff_of_gauss(indices, *popt_diff)\n",
    "\n",
    "# plot data and fitted models\n",
    "fig, ax = plt.subplots(1,3)\n",
    "ax[0].set_title('raw data')\n",
    "ax[0].imshow(cropped_data, cmap = plt.cm.magma)\n",
    "ax[1].set_title('2d gaussian fit')\n",
    "ax[1].imshow(imfit_single.reshape(cropped_data.shape), cmap = plt.cm.magma)\n",
    "ax[2].set_title('difference of \\ngaussians fit')\n",
    "ax[2].imshow(imfit_diff.reshape(cropped_data.shape), cmap = plt.cm.magma)"
   ]
  },
  {
   "cell_type": "code",
   "execution_count": null,
   "metadata": {},
   "outputs": [],
   "source": []
  }
 ],
 "metadata": {
  "kernelspec": {
   "display_name": "Python 3",
   "language": "python",
   "name": "python3"
  },
  "language_info": {
   "codemirror_mode": {
    "name": "ipython",
    "version": 3
   },
   "file_extension": ".py",
   "mimetype": "text/x-python",
   "name": "python",
   "nbconvert_exporter": "python",
   "pygments_lexer": "ipython3",
   "version": "3.7.3"
  }
 },
 "nbformat": 4,
 "nbformat_minor": 2
}
